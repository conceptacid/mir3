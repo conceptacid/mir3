{
 "cells": [
  {
   "cell_type": "markdown",
   "metadata": {},
   "source": [
    "<h2>Show how many chunks of each class we have</h2>\n",
    "The database has to be chopped by ruuning data_chop_medley_db script"
   ]
  },
  {
   "cell_type": "code",
   "execution_count": 12,
   "metadata": {
    "collapsed": true
   },
   "outputs": [],
   "source": [
    "import os\n",
    "import sys\n",
    "import math\n",
    "import numpy as np\n",
    "import scipy, pylab\n",
    "import scipy.io.wavfile as wave\n",
    "\n",
    "import tensorflow as tf\n",
    "import matplotlib.pyplot as plt\n",
    "\n",
    "from scipy.fftpack import dct\n",
    "from spectrograms import *\n",
    "from data_classes import *\n",
    "%matplotlib inline"
   ]
  },
  {
   "cell_type": "code",
   "execution_count": 13,
   "metadata": {
    "collapsed": false
   },
   "outputs": [],
   "source": [
    "# Provide data paths\n",
    "\n",
    "DATA_CHOPPED_PATH = \"/media/ubuntu/DATA/MIR/Chopped\"\n",
    "DATA_MEDLEY_DB_PATH = \"/media/ubuntu/AE08E30B08E2D17F/MedleyDB/Audio\"\n"
   ]
  },
  {
   "cell_type": "code",
   "execution_count": 14,
   "metadata": {
    "collapsed": false
   },
   "outputs": [
    {
     "data": {
      "text/plain": [
       "{'banjo, mandolin': 1090,\n",
       " 'bass': 7229,\n",
       " 'bells, chimes': 98,\n",
       " 'brass': 1558,\n",
       " 'drums or perc': 36628,\n",
       " 'electric guitar': 3435,\n",
       " 'guitar': 8877,\n",
       " 'keyboards': 12279,\n",
       " 'strings': 5236,\n",
       " 'vibraphone': 842,\n",
       " 'vocals or speech': 8544,\n",
       " 'woodwind': 1262}"
      ]
     },
     "execution_count": 14,
     "metadata": {},
     "output_type": "execute_result"
    }
   ],
   "source": [
    "chunks_per_song = {}\n",
    "chunks_per_instrument = {}\n",
    "for song in os.listdir(DATA_CHOPPED_PATH):\n",
    "    raw = song + \"_RAW\"\n",
    "    if not os.path.exists(os.path.join(DATA_CHOPPED_PATH, song, raw)):\n",
    "        continue\n",
    "    collect_chunks_per_instrument(DATA_MEDLEY_DB_PATH, DATA_CHOPPED_PATH, song, chunks_per_instrument)\n",
    "    chunks_per_song[song] = 0\n",
    "    for track in os.listdir(os.path.join(DATA_CHOPPED_PATH, song, raw)):\n",
    "        for chunk in os.listdir(os.path.join(DATA_CHOPPED_PATH, song, raw, track)):\n",
    "            chunks_per_song[song] += 1\n",
    "        \n",
    "#chunks_per_song    \n",
    "for k, v in chunks_per_instrument.items():\n",
    "    chunks_per_instrument[k] = len(v)\n",
    "    \n",
    "chunks_per_instrument    \n",
    "    "
   ]
  },
  {
   "cell_type": "code",
   "execution_count": 16,
   "metadata": {
    "collapsed": false
   },
   "outputs": [
    {
     "data": {
      "image/png": "[encoded data removed]",
      "text/plain": [
       "<matplotlib.figure.Figure at 0x7f0d5b190908>"
      ]
     },
     "metadata": {},
     "output_type": "display_data"
    }
   ],
   "source": [
    "data = chunks_per_instrument\n",
    "X = np.arange(len(data))\n",
    "pylab.bar(X, data.values(), align='center', width=0.5)\n",
    "pylab.xticks(X, data.keys())\n",
    "\n",
    "for tick in pylab.gca().xaxis.iter_ticks():\n",
    "    tick[0].label2On = True\n",
    "    tick[0].label1On = False\n",
    "    tick[0].label2.set_rotation('vertical')\n",
    "\n",
    "ymax = max(data.values()) + 1\n",
    "pylab.ylim(0, ymax)\n",
    "pylab.show()\n",
    "\n"
   ]
  },
  {
   "cell_type": "markdown",
   "metadata": {},
   "source": [
    "<h2>For the minimal learning example we'll try to cap the classes in a way that we get 40k examples total</h2>"
   ]
  },
  {
   "cell_type": "code",
   "execution_count": 18,
   "metadata": {
    "collapsed": true
   },
   "outputs": [],
   "source": [
    "CAP_LIMIT=40000"
   ]
  },
  {
   "cell_type": "code",
   "execution_count": 22,
   "metadata": {
    "collapsed": false
   },
   "outputs": [
    {
     "name": "stdout",
     "output_type": "stream",
     "text": [
      "1 [2, 3]\n"
     ]
    },
    {
     "data": {
      "text/plain": [
       "[2, 3]"
      ]
     },
     "execution_count": 22,
     "metadata": {},
     "output_type": "execute_result"
    }
   ],
   "source": [
    "a = [1,2,3]\n",
    "print(a.pop(0),a)\n",
    "a"
   ]
  }
 ],
 "metadata": {
  "kernelspec": {
   "display_name": "Python 3",
   "language": "python",
   "name": "python3"
  },
  "language_info": {
   "codemirror_mode": {
    "name": "ipython",
    "version": 3
   },
   "file_extension": ".py",
   "mimetype": "text/x-python",
   "name": "python",
   "nbconvert_exporter": "python",
   "pygments_lexer": "ipython3",
   "version": "3.5.2"
  }
 },
 "nbformat": 4,
 "nbformat_minor": 2
}
